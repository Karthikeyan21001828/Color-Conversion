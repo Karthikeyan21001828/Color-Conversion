{
 "cells": [
  {
   "cell_type": "code",
   "execution_count": 2,
   "id": "f0811aa8",
   "metadata": {},
   "outputs": [],
   "source": [
    "import cv2\n",
    "BGR_image=cv2.imread('house.jpg')\n",
    "cv2.imshow('BGR_Image',BGR_image)\n",
    "#BGR2HSV\n",
    "hsv_image=cv2.cvtColor(house_color_image,cv2.COLOR_BGR2HSV)\n",
    "cv2.imshow('BGR2HSV',hsv_image)\n",
    "cv2.imwrite('hsv.jpg',hsv_image)\n",
    "cv2.waitKey(0)\n",
    "cv2.destroyAllWindows()"
   ]
  },
  {
   "cell_type": "code",
   "execution_count": 3,
   "id": "d8ef61f0",
   "metadata": {},
   "outputs": [],
   "source": [
    "import cv2\n",
    "HSV_image=cv2.imread('hsv.jpg')\n",
    "cv2.imshow('HSV_Image',HSV_image)\n",
    "#HSV2BGR\n",
    "bgr_image=cv2.cvtColor(house_color_image,cv2.COLOR_HSV2BGR)\n",
    "cv2.imshow('HSV2BGR',bgr_image)\n",
    "cv2.waitKey(0)\n",
    "cv2.destroyAllWindows()"
   ]
  },
  {
   "cell_type": "code",
   "execution_count": 4,
   "id": "e8e60455",
   "metadata": {},
   "outputs": [],
   "source": [
    "import cv2\n",
    "house_color_image=cv2.imread('house.jpg')\n",
    "cv2.imshow('BGR_Image',house_color_image)\n",
    "#BGR2YCrCb\n",
    "YCrCb_image=cv2.cvtColor(house_color_image,cv2.COLOR_BGR2YCrCb)\n",
    "cv2.imshow('BGR2YCrCb',YCrCb_image)\n",
    "cv2.waitKey(0)\n",
    "cv2.destroyAllWindows()"
   ]
  },
  {
   "cell_type": "code",
   "execution_count": 18,
   "id": "d42c3602",
   "metadata": {},
   "outputs": [],
   "source": [
    "import cv2\n",
    "BGR_image=cv2.imread('house.jpg')\n",
    "blue=BGR_image[:,:,0]\n",
    "green=BGR_image[:,:,1]\n",
    "red=BGR_image[:,:,2]\n",
    "cv2.imshow('BGR_Blue',blue)\n",
    "cv2.imshow('BGR_Green',green)\n",
    "cv2.imshow('BGR_Red',red)\n",
    "merge_bgr=cv2.merge((blue,green,red))\n",
    "cv2.imshow('merge_bgr',merge_bgr)\n",
    "cv2.waitKey(0)\n",
    "cv2.destroyAllWindows()"
   ]
  },
  {
   "cell_type": "code",
   "execution_count": 21,
   "id": "3cdf893d",
   "metadata": {},
   "outputs": [],
   "source": [
    "import cv2\n",
    "house_color_image=cv2.imread('hsv.jpg')\n",
    "cv2.imshow('HSV_Image',house_color_image)\n",
    "h, s, v = cv2.split(hsv_image)\n",
    "cv2.imshow('h',h)\n",
    "cv2.imshow('s',s)\n",
    "cv2.imshow('v',v)\n",
    "merge_hsv=cv2.merge((h,s,v))\n",
    "cv2.imshow('merge_hsv',merge_hsv)\n",
    "cv2.waitKey(0)\n",
    "cv2.destroyAllWindows()"
   ]
  },
  {
   "cell_type": "code",
   "execution_count": null,
   "id": "5b89f5ed",
   "metadata": {},
   "outputs": [],
   "source": []
  }
 ],
 "metadata": {
  "kernelspec": {
   "display_name": "Python 3 (ipykernel)",
   "language": "python",
   "name": "python3"
  },
  "language_info": {
   "codemirror_mode": {
    "name": "ipython",
    "version": 3
   },
   "file_extension": ".py",
   "mimetype": "text/x-python",
   "name": "python",
   "nbconvert_exporter": "python",
   "pygments_lexer": "ipython3",
   "version": "3.9.7"
  }
 },
 "nbformat": 4,
 "nbformat_minor": 5
}
